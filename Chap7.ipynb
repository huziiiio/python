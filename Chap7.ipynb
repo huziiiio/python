{
 "cells": [
  {
   "cell_type": "markdown",
   "metadata": {},
   "source": [
    "# 錯誤處理\n",
    "try:\n",
    "except:\n",
    "else:\n",
    "finally:"
   ]
  },
  {
   "cell_type": "code",
   "execution_count": 6,
   "metadata": {},
   "outputs": [
    {
     "name": "stdout",
     "output_type": "stream",
     "text": [
      "except\n"
     ]
    }
   ],
   "source": [
    "a = 10\n",
    "b = 20\n",
    "try:\n",
    "    if a < b:\n",
    "        print(n) #沒有n這個變數，錯誤產生\n",
    "except:\n",
    "    print(\"except\")"
   ]
  },
  {
   "cell_type": "markdown",
   "metadata": {},
   "source": [
    "## 指定錯誤類別"
   ]
  },
  {
   "cell_type": "code",
   "execution_count": 10,
   "metadata": {},
   "outputs": [
    {
     "name": "stdout",
     "output_type": "stream",
     "text": [
      "except: NameError: name 'n' is not defined\n"
     ]
    }
   ],
   "source": [
    "a = 10\n",
    "b = 20\n",
    "try:\n",
    "    if a < b:\n",
    "        print(n)\n",
    "except NameError as n:\n",
    "    print(\"except: NameError:\", n)"
   ]
  },
  {
   "cell_type": "markdown",
   "metadata": {},
   "source": [
    "## else"
   ]
  },
  {
   "cell_type": "code",
   "execution_count": 12,
   "metadata": {},
   "outputs": [
    {
     "name": "stdout",
     "output_type": "stream",
     "text": [
      "沒有錯誤產生\n"
     ]
    }
   ],
   "source": [
    "a=10\n",
    "b=20\n",
    "try: \n",
    "    if a > b: #改變設定條件，讓資料不會進入print(n)\n",
    "        print(n)\n",
    "except:\n",
    "    print(\"except\")\n",
    "else:\n",
    "    print(\"沒有錯誤產生\")"
   ]
  },
  {
   "cell_type": "code",
   "execution_count": 13,
   "metadata": {},
   "outputs": [
    {
     "name": "stdout",
     "output_type": "stream",
     "text": [
      "except\n",
      "一定會執行到這一行\n"
     ]
    }
   ],
   "source": [
    "a=10\n",
    "b=20\n",
    "try: \n",
    "    if a < b: #改變設定條件，讓資料不會進入print(n)\n",
    "        print(n)\n",
    "except:\n",
    "    print(\"except\")\n",
    "else:\n",
    "    print(\"沒有錯誤產生\")\n",
    "finally:\n",
    "    print(\"一定會執行到這一行\")"
   ]
  },
  {
   "cell_type": "code",
   "execution_count": null,
   "metadata": {
    "collapsed": true
   },
   "outputs": [],
   "source": []
  }
 ],
 "metadata": {
  "kernelspec": {
   "display_name": "Python 3",
   "language": "python",
   "name": "python3"
  },
  "language_info": {
   "codemirror_mode": {
    "name": "ipython",
    "version": 3
   },
   "file_extension": ".py",
   "mimetype": "text/x-python",
   "name": "python",
   "nbconvert_exporter": "python",
   "pygments_lexer": "ipython3",
   "version": "3.6.3"
  }
 },
 "nbformat": 4,
 "nbformat_minor": 2
}
